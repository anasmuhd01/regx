{
 "cells": [
  {
   "cell_type": "code",
   "execution_count": 3,
   "id": "c8031b72-53ac-4615-b6f0-78c7891a41e8",
   "metadata": {},
   "outputs": [],
   "source": [
    "with open(\"miracle_in_the_andes.txt\", \"r\", encoding =\"UTF-8\") as file:\n",
    "    book = file.read()"
   ]
  },
  {
   "cell_type": "code",
   "execution_count": 18,
   "id": "f1d2f7d4-4ff0-419f-8b9d-83e659da0bf6",
   "metadata": {},
   "outputs": [
    {
     "name": "stderr",
     "output_type": "stream",
     "text": [
      "[nltk_data] Downloading package stopwords to\n",
      "[nltk_data]     C:\\Users\\anas\\AppData\\Roaming\\nltk_data...\n",
      "[nltk_data]   Unzipping corpora\\stopwords.zip.\n"
     ]
    }
   ],
   "source": [
    "import nltk\n",
    "nltk.download('stopwords')\n",
    "from nltk.corpus import stopwords\n",
    "english_stopword = stopwords.words(\"english\")"
   ]
  },
  {
   "cell_type": "code",
   "execution_count": 21,
   "id": "61a9f285-d97f-4bef-8f90-a15bf3195ab6",
   "metadata": {},
   "outputs": [],
   "source": [
    "import re\n",
    "pattern = re.compile(\"[A-Za-z]+\")\n",
    "findings = re.findall(pattern, book)\n",
    "d = {}\n",
    "for word in findings:\n",
    "    if word in d.keys():\n",
    "        d[word] = d[word] + 1\n",
    "    else:\n",
    "        d[word] = 1"
   ]
  },
  {
   "cell_type": "code",
   "execution_count": 27,
   "id": "43aefcff-b241-4790-b3e0-98fbd699cbae",
   "metadata": {},
   "outputs": [],
   "source": [
    "d_list = [(value,key) for (key,value) in d.items()]\n",
    "d_list = sorted(d_list,reverse = True)"
   ]
  },
  {
   "cell_type": "code",
   "execution_count": 30,
   "id": "c4c8a81f-28d7-40e5-ab0b-ab4bd31a371e",
   "metadata": {},
   "outputs": [],
   "source": [
    "filter_words = []\n",
    "for count,word in d_list:\n",
    "    if word not in english_stopword:\n",
    "        filter_words.append((word,count))"
   ]
  },
  {
   "cell_type": "code",
   "execution_count": 32,
   "id": "762e9676-b27f-4165-833e-cddbb75b5b7c",
   "metadata": {},
   "outputs": [
    {
     "data": {
      "text/plain": [
       "[('I', 2729),\n",
       " ('would', 556),\n",
       " ('us', 518),\n",
       " ('We', 333),\n",
       " ('The', 308),\n",
       " ('said', 292),\n",
       " ('Roberto', 284),\n",
       " ('could', 249),\n",
       " ('one', 229),\n",
       " ('snow', 225)]"
      ]
     },
     "execution_count": 32,
     "metadata": {},
     "output_type": "execute_result"
    }
   ],
   "source": [
    "filter_words[:10]"
   ]
  },
  {
   "cell_type": "markdown",
   "id": "8744fbad-04d9-43ae-ad87-6c163d7cc6ed",
   "metadata": {},
   "source": [
    "### sentiment analysis"
   ]
  },
  {
   "cell_type": "code",
   "execution_count": null,
   "id": "43988aaa-7f92-4024-894c-548c564fa8e8",
   "metadata": {},
   "outputs": [],
   "source": [
    "from vaderSentiment.vaderSentiment import SentimentIntensityAnalyzer"
   ]
  },
  {
   "cell_type": "code",
   "execution_count": null,
   "id": "214d95ba-a2b8-477d-99fc-5940ca649971",
   "metadata": {},
   "outputs": [],
   "source": [
    "analyzer = SentimentIntensityAnalyzer()"
   ]
  },
  {
   "cell_type": "code",
   "execution_count": 60,
   "id": "ea1767e3-47b2-4de7-b4c9-368d24e71485",
   "metadata": {},
   "outputs": [
    {
     "data": {
      "text/plain": [
       "['__class__',\n",
       " '__delattr__',\n",
       " '__dict__',\n",
       " '__dir__',\n",
       " '__doc__',\n",
       " '__eq__',\n",
       " '__format__',\n",
       " '__ge__',\n",
       " '__getattribute__',\n",
       " '__gt__',\n",
       " '__hash__',\n",
       " '__init__',\n",
       " '__init_subclass__',\n",
       " '__le__',\n",
       " '__lt__',\n",
       " '__module__',\n",
       " '__ne__',\n",
       " '__new__',\n",
       " '__reduce__',\n",
       " '__reduce_ex__',\n",
       " '__repr__',\n",
       " '__setattr__',\n",
       " '__sizeof__',\n",
       " '__str__',\n",
       " '__subclasshook__',\n",
       " '__weakref__',\n",
       " '_amplify_ep',\n",
       " '_amplify_qm',\n",
       " '_but_check',\n",
       " '_least_check',\n",
       " '_negation_check',\n",
       " '_punctuation_emphasis',\n",
       " '_sentiment_laden_idioms_check',\n",
       " '_sift_sentiment_scores',\n",
       " '_special_idioms_check',\n",
       " 'emoji_full_filepath',\n",
       " 'emojis',\n",
       " 'lexicon',\n",
       " 'lexicon_full_filepath',\n",
       " 'make_emoji_dict',\n",
       " 'make_lex_dict',\n",
       " 'polarity_scores',\n",
       " 'score_valence',\n",
       " 'sentiment_valence']"
      ]
     },
     "execution_count": 60,
     "metadata": {},
     "output_type": "execute_result"
    }
   ],
   "source": [
    "dir(analyzer)"
   ]
  },
  {
   "cell_type": "code",
   "execution_count": null,
   "id": "7c0b7d5d-a499-4e55-90a0-4e3ec4ed439c",
   "metadata": {},
   "outputs": [],
   "source": [
    "print(analyzer.polarity_scores(book))"
   ]
  }
 ],
 "metadata": {
  "kernelspec": {
   "display_name": "Python 3 (ipykernel)",
   "language": "python",
   "name": "python3"
  },
  "language_info": {
   "codemirror_mode": {
    "name": "ipython",
    "version": 3
   },
   "file_extension": ".py",
   "mimetype": "text/x-python",
   "name": "python",
   "nbconvert_exporter": "python",
   "pygments_lexer": "ipython3",
   "version": "3.10.11"
  }
 },
 "nbformat": 4,
 "nbformat_minor": 5
}
