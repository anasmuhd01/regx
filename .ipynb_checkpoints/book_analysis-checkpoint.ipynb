{
 "cells": [
  {
   "cell_type": "markdown",
   "id": "bea80dd9-115d-49db-adfd-c317f7a01b4a",
   "metadata": {},
   "source": [
    "## read book"
   ]
  },
  {
   "cell_type": "code",
   "execution_count": 7,
   "id": "c9ef6420-1fc6-459a-b56f-e02f5f3c4c9f",
   "metadata": {},
   "outputs": [],
   "source": [
    "with open(\"miracle_in_the_andes.txt\", \"r\",encoding = \"UTF-8\") as file:\n",
    "    book = file.read()"
   ]
  },
  {
   "cell_type": "code",
   "execution_count": 10,
   "id": "1b0f0f0b-df46-4a94-b877-b4f47862d773",
   "metadata": {},
   "outputs": [],
   "source": [
    "import re"
   ]
  },
  {
   "cell_type": "code",
   "execution_count": 14,
   "id": "54d1bff2-6002-46c4-8f6d-e14f56fa4606",
   "metadata": {},
   "outputs": [
    {
     "data": {
      "text/plain": [
       "['Chapter 1',\n",
       " 'Chapter 2',\n",
       " 'Chapter 3',\n",
       " 'Chapter 4',\n",
       " 'Chapter 5',\n",
       " 'Chapter 6',\n",
       " 'Chapter 7',\n",
       " 'Chapter 8',\n",
       " 'Chapter 9',\n",
       " 'Chapter 10']"
      ]
     },
     "execution_count": 14,
     "metadata": {},
     "output_type": "execute_result"
    }
   ],
   "source": [
    "pattern = re.compile(\"Chapter [0-9]+\")\n",
    "findings = re.findall(pattern, book)\n",
    "findings"
   ]
  },
  {
   "cell_type": "code",
   "execution_count": 60,
   "id": "4884d6a9-c8ea-4d36-8bbf-dce9d54b422a",
   "metadata": {},
   "outputs": [
    {
     "data": {
      "text/plain": [
       "['Before',\n",
       " 'Precious',\n",
       " 'Promise',\n",
       " 'More',\n",
       " 'Abandoned',\n",
       " 'Tomb',\n",
       " 'East',\n",
       " 'Death',\n",
       " 'Man',\n",
       " 'After']"
      ]
     },
     "execution_count": 60,
     "metadata": {},
     "output_type": "execute_result"
    }
   ],
   "source": [
    "pattern = re.compile(\"[[a-zA-z]+\\n\\n\")\n",
    "findings = re.findall(pattern , book)\n",
    "findings = [item.strip(\"\\n\\n\") for item in findings]\n",
    "findings"
   ]
  },
  {
   "cell_type": "code",
   "execution_count": 61,
   "id": "f897782a-a4b3-4a51-96d7-26194b2f3db2",
   "metadata": {},
   "outputs": [
    {
     "data": {
      "text/plain": [
       "['Before',\n",
       " 'Precious',\n",
       " 'Promise',\n",
       " 'More',\n",
       " 'Abandoned',\n",
       " 'Tomb',\n",
       " 'East',\n",
       " 'Death',\n",
       " 'Man',\n",
       " 'After']"
      ]
     },
     "execution_count": 61,
     "metadata": {},
     "output_type": "execute_result"
    }
   ],
   "source": [
    "pattern = re.compile(\"([a-zA-z]+)\\n\\n\")\n",
    "findings = re.findall(pattern , book)\n",
    "findings"
   ]
  },
  {
   "cell_type": "code",
   "execution_count": 76,
   "id": "84772ad1-c13d-4e6e-aa2d-4127596169a5",
   "metadata": {},
   "outputs": [],
   "source": [
    "pattern = re.compile(\"[A-Za-z]+\")\n",
    "findings = re.findall(pattern, book)\n",
    "d = {}\n",
    "for word in findings:\n",
    "    if word in d.keys():\n",
    "        d[word] = d[word] + 1\n",
    "    else:\n",
    "        d[word] = 1"
   ]
  },
  {
   "cell_type": "code",
   "execution_count": 78,
   "id": "2f04904d-0f16-431a-9a63-16f15df24906",
   "metadata": {},
   "outputs": [],
   "source": [
    "d_list = [(value,key) for (key,value) in d.items()]\n",
    "x = sorted(d_list,reverse = True)\n"
   ]
  },
  {
   "cell_type": "code",
   "execution_count": 89,
   "id": "1c6b5a1d-e1c6-474a-a736-9d7be44f4b3d",
   "metadata": {},
   "outputs": [],
   "source": [
    "def find(w):\n",
    "    pattern = re.compile(\"[A-Za-z]+\")\n",
    "    findings = re.findall(pattern, book)\n",
    "    d = {}\n",
    "    for word in findings:\n",
    "        if word in d.keys():\n",
    "            d[word] = d[word] + 1\n",
    "        else:\n",
    "            d[word] = 1\n",
    "    try:\n",
    "        return d[w]\n",
    "    except:\n",
    "        return f'{w} not found'"
   ]
  },
  {
   "cell_type": "code",
   "execution_count": 94,
   "id": "83207ef7-e6e1-49ac-b703-b1cd2341b137",
   "metadata": {},
   "outputs": [
    {
     "data": {
      "text/plain": [
       "10"
      ]
     },
     "execution_count": 94,
     "metadata": {},
     "output_type": "execute_result"
    }
   ],
   "source": [
    "find(\"Chapter\")"
   ]
  },
  {
   "cell_type": "code",
   "execution_count": 97,
   "id": "6699d58c-b875-4bc6-bba7-7e072b55b392",
   "metadata": {},
   "outputs": [
    {
     "data": {
      "text/plain": [
       "10"
      ]
     },
     "execution_count": 97,
     "metadata": {},
     "output_type": "execute_result"
    }
   ],
   "source": [
    "d[\"Chapter\"]"
   ]
  }
 ],
 "metadata": {
  "kernelspec": {
   "display_name": "Python 3 (ipykernel)",
   "language": "python",
   "name": "python3"
  },
  "language_info": {
   "codemirror_mode": {
    "name": "ipython",
    "version": 3
   },
   "file_extension": ".py",
   "mimetype": "text/x-python",
   "name": "python",
   "nbconvert_exporter": "python",
   "pygments_lexer": "ipython3",
   "version": "3.10.11"
  }
 },
 "nbformat": 4,
 "nbformat_minor": 5
}
